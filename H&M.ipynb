{
  "nbformat": 4,
  "nbformat_minor": 0,
  "metadata": {
    "colab": {
      "name": "H&M",
      "provenance": [],
      "collapsed_sections": [],
      "mount_file_id": "1yZAN8fiA8NPuXjW2ky3dOasjtXpD6eX-",
      "authorship_tag": "ABX9TyMkSmLU7NAppjJoFhylyesq",
      "include_colab_link": true
    },
    "kernelspec": {
      "name": "python3",
      "display_name": "Python 3"
    },
    "language_info": {
      "name": "python"
    }
  },
  "cells": [
    {
      "cell_type": "markdown",
      "metadata": {
        "id": "view-in-github",
        "colab_type": "text"
      },
      "source": [
        "<a href=\"https://colab.research.google.com/github/Suthineett/H-and-M/blob/main/H%26M.ipynb\" target=\"_parent\"><img src=\"https://colab.research.google.com/assets/colab-badge.svg\" alt=\"Open In Colab\"/></a>"
      ]
    },
    {
      "cell_type": "code",
      "execution_count": 40,
      "metadata": {
        "id": "mJXJBAuzhhX1"
      },
      "outputs": [],
      "source": [
        "#Import libraries\n",
        "import numpy as np\n",
        "import pandas as pd\n",
        "import matplotlib.pyplot as plt\n",
        "import seaborn as sns"
      ]
    },
    {
      "cell_type": "code",
      "source": [
        "#Import files \n",
        "df_a = pd.read_csv(r'/content/drive/MyDrive/H&M/articles.csv')\n",
        "df_c = pd.read_csv(r'/content/drive/MyDrive/H&M/customers.csv')\n",
        "df_t = pd.read_csv(r'/content/drive/MyDrive/H&M/transactions_train.csv')"
      ],
      "metadata": {
        "id": "YNWC0rWyl3PO"
      },
      "execution_count": 41,
      "outputs": []
    },
    {
      "cell_type": "code",
      "source": [
        "#Data exploration (articles)\n",
        "df_a.head()"
      ],
      "metadata": {
        "colab": {
          "base_uri": "https://localhost:8080/",
          "height": 560
        },
        "collapsed": true,
        "id": "2P6nI8ruVk3r",
        "outputId": "22262477-533d-4448-fac4-60aa62075a39"
      },
      "execution_count": 42,
      "outputs": [
        {
          "output_type": "execute_result",
          "data": {
            "text/plain": [
              "   article_id  product_code          prod_name  product_type_no  \\\n",
              "0   108775015        108775          Strap top              253   \n",
              "1   108775044        108775          Strap top              253   \n",
              "2   108775051        108775      Strap top (1)              253   \n",
              "3   110065001        110065  OP T-shirt (Idro)              306   \n",
              "4   110065002        110065  OP T-shirt (Idro)              306   \n",
              "\n",
              "  product_type_name  product_group_name  graphical_appearance_no  \\\n",
              "0          Vest top  Garment Upper body                  1010016   \n",
              "1          Vest top  Garment Upper body                  1010016   \n",
              "2          Vest top  Garment Upper body                  1010017   \n",
              "3               Bra           Underwear                  1010016   \n",
              "4               Bra           Underwear                  1010016   \n",
              "\n",
              "  graphical_appearance_name  colour_group_code colour_group_name  ...  \\\n",
              "0                     Solid                  9             Black  ...   \n",
              "1                     Solid                 10             White  ...   \n",
              "2                    Stripe                 11         Off White  ...   \n",
              "3                     Solid                  9             Black  ...   \n",
              "4                     Solid                 10             White  ...   \n",
              "\n",
              "   department_name index_code        index_name index_group_no  \\\n",
              "0     Jersey Basic          A        Ladieswear              1   \n",
              "1     Jersey Basic          A        Ladieswear              1   \n",
              "2     Jersey Basic          A        Ladieswear              1   \n",
              "3   Clean Lingerie          B  Lingeries/Tights              1   \n",
              "4   Clean Lingerie          B  Lingeries/Tights              1   \n",
              "\n",
              "   index_group_name section_no            section_name garment_group_no  \\\n",
              "0        Ladieswear         16  Womens Everyday Basics             1002   \n",
              "1        Ladieswear         16  Womens Everyday Basics             1002   \n",
              "2        Ladieswear         16  Womens Everyday Basics             1002   \n",
              "3        Ladieswear         61         Womens Lingerie             1017   \n",
              "4        Ladieswear         61         Womens Lingerie             1017   \n",
              "\n",
              "   garment_group_name                                        detail_desc  \n",
              "0        Jersey Basic            Jersey top with narrow shoulder straps.  \n",
              "1        Jersey Basic            Jersey top with narrow shoulder straps.  \n",
              "2        Jersey Basic            Jersey top with narrow shoulder straps.  \n",
              "3   Under-, Nightwear  Microfibre T-shirt bra with underwired, moulde...  \n",
              "4   Under-, Nightwear  Microfibre T-shirt bra with underwired, moulde...  \n",
              "\n",
              "[5 rows x 25 columns]"
            ],
            "text/html": [
              "\n",
              "  <div id=\"df-7a41aec5-ec90-4132-8db1-88e66467d58e\">\n",
              "    <div class=\"colab-df-container\">\n",
              "      <div>\n",
              "<style scoped>\n",
              "    .dataframe tbody tr th:only-of-type {\n",
              "        vertical-align: middle;\n",
              "    }\n",
              "\n",
              "    .dataframe tbody tr th {\n",
              "        vertical-align: top;\n",
              "    }\n",
              "\n",
              "    .dataframe thead th {\n",
              "        text-align: right;\n",
              "    }\n",
              "</style>\n",
              "<table border=\"1\" class=\"dataframe\">\n",
              "  <thead>\n",
              "    <tr style=\"text-align: right;\">\n",
              "      <th></th>\n",
              "      <th>article_id</th>\n",
              "      <th>product_code</th>\n",
              "      <th>prod_name</th>\n",
              "      <th>product_type_no</th>\n",
              "      <th>product_type_name</th>\n",
              "      <th>product_group_name</th>\n",
              "      <th>graphical_appearance_no</th>\n",
              "      <th>graphical_appearance_name</th>\n",
              "      <th>colour_group_code</th>\n",
              "      <th>colour_group_name</th>\n",
              "      <th>...</th>\n",
              "      <th>department_name</th>\n",
              "      <th>index_code</th>\n",
              "      <th>index_name</th>\n",
              "      <th>index_group_no</th>\n",
              "      <th>index_group_name</th>\n",
              "      <th>section_no</th>\n",
              "      <th>section_name</th>\n",
              "      <th>garment_group_no</th>\n",
              "      <th>garment_group_name</th>\n",
              "      <th>detail_desc</th>\n",
              "    </tr>\n",
              "  </thead>\n",
              "  <tbody>\n",
              "    <tr>\n",
              "      <th>0</th>\n",
              "      <td>108775015</td>\n",
              "      <td>108775</td>\n",
              "      <td>Strap top</td>\n",
              "      <td>253</td>\n",
              "      <td>Vest top</td>\n",
              "      <td>Garment Upper body</td>\n",
              "      <td>1010016</td>\n",
              "      <td>Solid</td>\n",
              "      <td>9</td>\n",
              "      <td>Black</td>\n",
              "      <td>...</td>\n",
              "      <td>Jersey Basic</td>\n",
              "      <td>A</td>\n",
              "      <td>Ladieswear</td>\n",
              "      <td>1</td>\n",
              "      <td>Ladieswear</td>\n",
              "      <td>16</td>\n",
              "      <td>Womens Everyday Basics</td>\n",
              "      <td>1002</td>\n",
              "      <td>Jersey Basic</td>\n",
              "      <td>Jersey top with narrow shoulder straps.</td>\n",
              "    </tr>\n",
              "    <tr>\n",
              "      <th>1</th>\n",
              "      <td>108775044</td>\n",
              "      <td>108775</td>\n",
              "      <td>Strap top</td>\n",
              "      <td>253</td>\n",
              "      <td>Vest top</td>\n",
              "      <td>Garment Upper body</td>\n",
              "      <td>1010016</td>\n",
              "      <td>Solid</td>\n",
              "      <td>10</td>\n",
              "      <td>White</td>\n",
              "      <td>...</td>\n",
              "      <td>Jersey Basic</td>\n",
              "      <td>A</td>\n",
              "      <td>Ladieswear</td>\n",
              "      <td>1</td>\n",
              "      <td>Ladieswear</td>\n",
              "      <td>16</td>\n",
              "      <td>Womens Everyday Basics</td>\n",
              "      <td>1002</td>\n",
              "      <td>Jersey Basic</td>\n",
              "      <td>Jersey top with narrow shoulder straps.</td>\n",
              "    </tr>\n",
              "    <tr>\n",
              "      <th>2</th>\n",
              "      <td>108775051</td>\n",
              "      <td>108775</td>\n",
              "      <td>Strap top (1)</td>\n",
              "      <td>253</td>\n",
              "      <td>Vest top</td>\n",
              "      <td>Garment Upper body</td>\n",
              "      <td>1010017</td>\n",
              "      <td>Stripe</td>\n",
              "      <td>11</td>\n",
              "      <td>Off White</td>\n",
              "      <td>...</td>\n",
              "      <td>Jersey Basic</td>\n",
              "      <td>A</td>\n",
              "      <td>Ladieswear</td>\n",
              "      <td>1</td>\n",
              "      <td>Ladieswear</td>\n",
              "      <td>16</td>\n",
              "      <td>Womens Everyday Basics</td>\n",
              "      <td>1002</td>\n",
              "      <td>Jersey Basic</td>\n",
              "      <td>Jersey top with narrow shoulder straps.</td>\n",
              "    </tr>\n",
              "    <tr>\n",
              "      <th>3</th>\n",
              "      <td>110065001</td>\n",
              "      <td>110065</td>\n",
              "      <td>OP T-shirt (Idro)</td>\n",
              "      <td>306</td>\n",
              "      <td>Bra</td>\n",
              "      <td>Underwear</td>\n",
              "      <td>1010016</td>\n",
              "      <td>Solid</td>\n",
              "      <td>9</td>\n",
              "      <td>Black</td>\n",
              "      <td>...</td>\n",
              "      <td>Clean Lingerie</td>\n",
              "      <td>B</td>\n",
              "      <td>Lingeries/Tights</td>\n",
              "      <td>1</td>\n",
              "      <td>Ladieswear</td>\n",
              "      <td>61</td>\n",
              "      <td>Womens Lingerie</td>\n",
              "      <td>1017</td>\n",
              "      <td>Under-, Nightwear</td>\n",
              "      <td>Microfibre T-shirt bra with underwired, moulde...</td>\n",
              "    </tr>\n",
              "    <tr>\n",
              "      <th>4</th>\n",
              "      <td>110065002</td>\n",
              "      <td>110065</td>\n",
              "      <td>OP T-shirt (Idro)</td>\n",
              "      <td>306</td>\n",
              "      <td>Bra</td>\n",
              "      <td>Underwear</td>\n",
              "      <td>1010016</td>\n",
              "      <td>Solid</td>\n",
              "      <td>10</td>\n",
              "      <td>White</td>\n",
              "      <td>...</td>\n",
              "      <td>Clean Lingerie</td>\n",
              "      <td>B</td>\n",
              "      <td>Lingeries/Tights</td>\n",
              "      <td>1</td>\n",
              "      <td>Ladieswear</td>\n",
              "      <td>61</td>\n",
              "      <td>Womens Lingerie</td>\n",
              "      <td>1017</td>\n",
              "      <td>Under-, Nightwear</td>\n",
              "      <td>Microfibre T-shirt bra with underwired, moulde...</td>\n",
              "    </tr>\n",
              "  </tbody>\n",
              "</table>\n",
              "<p>5 rows × 25 columns</p>\n",
              "</div>\n",
              "      <button class=\"colab-df-convert\" onclick=\"convertToInteractive('df-7a41aec5-ec90-4132-8db1-88e66467d58e')\"\n",
              "              title=\"Convert this dataframe to an interactive table.\"\n",
              "              style=\"display:none;\">\n",
              "        \n",
              "  <svg xmlns=\"http://www.w3.org/2000/svg\" height=\"24px\"viewBox=\"0 0 24 24\"\n",
              "       width=\"24px\">\n",
              "    <path d=\"M0 0h24v24H0V0z\" fill=\"none\"/>\n",
              "    <path d=\"M18.56 5.44l.94 2.06.94-2.06 2.06-.94-2.06-.94-.94-2.06-.94 2.06-2.06.94zm-11 1L8.5 8.5l.94-2.06 2.06-.94-2.06-.94L8.5 2.5l-.94 2.06-2.06.94zm10 10l.94 2.06.94-2.06 2.06-.94-2.06-.94-.94-2.06-.94 2.06-2.06.94z\"/><path d=\"M17.41 7.96l-1.37-1.37c-.4-.4-.92-.59-1.43-.59-.52 0-1.04.2-1.43.59L10.3 9.45l-7.72 7.72c-.78.78-.78 2.05 0 2.83L4 21.41c.39.39.9.59 1.41.59.51 0 1.02-.2 1.41-.59l7.78-7.78 2.81-2.81c.8-.78.8-2.07 0-2.86zM5.41 20L4 18.59l7.72-7.72 1.47 1.35L5.41 20z\"/>\n",
              "  </svg>\n",
              "      </button>\n",
              "      \n",
              "  <style>\n",
              "    .colab-df-container {\n",
              "      display:flex;\n",
              "      flex-wrap:wrap;\n",
              "      gap: 12px;\n",
              "    }\n",
              "\n",
              "    .colab-df-convert {\n",
              "      background-color: #E8F0FE;\n",
              "      border: none;\n",
              "      border-radius: 50%;\n",
              "      cursor: pointer;\n",
              "      display: none;\n",
              "      fill: #1967D2;\n",
              "      height: 32px;\n",
              "      padding: 0 0 0 0;\n",
              "      width: 32px;\n",
              "    }\n",
              "\n",
              "    .colab-df-convert:hover {\n",
              "      background-color: #E2EBFA;\n",
              "      box-shadow: 0px 1px 2px rgba(60, 64, 67, 0.3), 0px 1px 3px 1px rgba(60, 64, 67, 0.15);\n",
              "      fill: #174EA6;\n",
              "    }\n",
              "\n",
              "    [theme=dark] .colab-df-convert {\n",
              "      background-color: #3B4455;\n",
              "      fill: #D2E3FC;\n",
              "    }\n",
              "\n",
              "    [theme=dark] .colab-df-convert:hover {\n",
              "      background-color: #434B5C;\n",
              "      box-shadow: 0px 1px 3px 1px rgba(0, 0, 0, 0.15);\n",
              "      filter: drop-shadow(0px 1px 2px rgba(0, 0, 0, 0.3));\n",
              "      fill: #FFFFFF;\n",
              "    }\n",
              "  </style>\n",
              "\n",
              "      <script>\n",
              "        const buttonEl =\n",
              "          document.querySelector('#df-7a41aec5-ec90-4132-8db1-88e66467d58e button.colab-df-convert');\n",
              "        buttonEl.style.display =\n",
              "          google.colab.kernel.accessAllowed ? 'block' : 'none';\n",
              "\n",
              "        async function convertToInteractive(key) {\n",
              "          const element = document.querySelector('#df-7a41aec5-ec90-4132-8db1-88e66467d58e');\n",
              "          const dataTable =\n",
              "            await google.colab.kernel.invokeFunction('convertToInteractive',\n",
              "                                                     [key], {});\n",
              "          if (!dataTable) return;\n",
              "\n",
              "          const docLinkHtml = 'Like what you see? Visit the ' +\n",
              "            '<a target=\"_blank\" href=https://colab.research.google.com/notebooks/data_table.ipynb>data table notebook</a>'\n",
              "            + ' to learn more about interactive tables.';\n",
              "          element.innerHTML = '';\n",
              "          dataTable['output_type'] = 'display_data';\n",
              "          await google.colab.output.renderOutput(dataTable, element);\n",
              "          const docLink = document.createElement('div');\n",
              "          docLink.innerHTML = docLinkHtml;\n",
              "          element.appendChild(docLink);\n",
              "        }\n",
              "      </script>\n",
              "    </div>\n",
              "  </div>\n",
              "  "
            ]
          },
          "metadata": {},
          "execution_count": 42
        }
      ]
    },
    {
      "cell_type": "code",
      "source": [
        "df_a.info()"
      ],
      "metadata": {
        "id": "rvawtnYNbFWl",
        "colab": {
          "base_uri": "https://localhost:8080/"
        },
        "outputId": "0e878f01-0af9-448b-ee40-7563f2c1ccce"
      },
      "execution_count": 43,
      "outputs": [
        {
          "output_type": "stream",
          "name": "stdout",
          "text": [
            "<class 'pandas.core.frame.DataFrame'>\n",
            "RangeIndex: 105542 entries, 0 to 105541\n",
            "Data columns (total 25 columns):\n",
            " #   Column                        Non-Null Count   Dtype \n",
            "---  ------                        --------------   ----- \n",
            " 0   article_id                    105542 non-null  int64 \n",
            " 1   product_code                  105542 non-null  int64 \n",
            " 2   prod_name                     105542 non-null  object\n",
            " 3   product_type_no               105542 non-null  int64 \n",
            " 4   product_type_name             105542 non-null  object\n",
            " 5   product_group_name            105542 non-null  object\n",
            " 6   graphical_appearance_no       105542 non-null  int64 \n",
            " 7   graphical_appearance_name     105542 non-null  object\n",
            " 8   colour_group_code             105542 non-null  int64 \n",
            " 9   colour_group_name             105542 non-null  object\n",
            " 10  perceived_colour_value_id     105542 non-null  int64 \n",
            " 11  perceived_colour_value_name   105542 non-null  object\n",
            " 12  perceived_colour_master_id    105542 non-null  int64 \n",
            " 13  perceived_colour_master_name  105542 non-null  object\n",
            " 14  department_no                 105542 non-null  int64 \n",
            " 15  department_name               105542 non-null  object\n",
            " 16  index_code                    105542 non-null  object\n",
            " 17  index_name                    105542 non-null  object\n",
            " 18  index_group_no                105542 non-null  int64 \n",
            " 19  index_group_name              105542 non-null  object\n",
            " 20  section_no                    105542 non-null  int64 \n",
            " 21  section_name                  105542 non-null  object\n",
            " 22  garment_group_no              105542 non-null  int64 \n",
            " 23  garment_group_name            105542 non-null  object\n",
            " 24  detail_desc                   105126 non-null  object\n",
            "dtypes: int64(11), object(14)\n",
            "memory usage: 20.1+ MB\n"
          ]
        }
      ]
    },
    {
      "cell_type": "code",
      "source": [
        "df_a1 = df_a.drop(['product_type_no','graphical_appearance_no','graphical_appearance_name','colour_group_code','perceived_colour_value_id','perceived_colour_value_name','perceived_colour_master_id','perceived_colour_master_name','department_no','department_name','index_code','index_group_no','section_no','section_name','garment_group_no', 'detail_desc'], axis=1)\n",
        "print(df_a1.head())\n"
      ],
      "metadata": {
        "colab": {
          "base_uri": "https://localhost:8080/"
        },
        "id": "RnfN4-_ZfNOm",
        "outputId": "b967e2e4-decc-41bb-a96b-03d2630eb985"
      },
      "execution_count": 44,
      "outputs": [
        {
          "output_type": "stream",
          "name": "stdout",
          "text": [
            "   article_id  product_code          prod_name product_type_name  \\\n",
            "0   108775015        108775          Strap top          Vest top   \n",
            "1   108775044        108775          Strap top          Vest top   \n",
            "2   108775051        108775      Strap top (1)          Vest top   \n",
            "3   110065001        110065  OP T-shirt (Idro)               Bra   \n",
            "4   110065002        110065  OP T-shirt (Idro)               Bra   \n",
            "\n",
            "   product_group_name colour_group_name        index_name index_group_name  \\\n",
            "0  Garment Upper body             Black        Ladieswear       Ladieswear   \n",
            "1  Garment Upper body             White        Ladieswear       Ladieswear   \n",
            "2  Garment Upper body         Off White        Ladieswear       Ladieswear   \n",
            "3           Underwear             Black  Lingeries/Tights       Ladieswear   \n",
            "4           Underwear             White  Lingeries/Tights       Ladieswear   \n",
            "\n",
            "  garment_group_name  \n",
            "0       Jersey Basic  \n",
            "1       Jersey Basic  \n",
            "2       Jersey Basic  \n",
            "3  Under-, Nightwear  \n",
            "4  Under-, Nightwear  \n"
          ]
        }
      ]
    },
    {
      "cell_type": "code",
      "source": [
        "df_a1.isnull().sum()"
      ],
      "metadata": {
        "colab": {
          "base_uri": "https://localhost:8080/"
        },
        "id": "tHPZVdVDhrHz",
        "outputId": "b1ae3d3b-f244-47d8-f939-2c4a3d3b5888"
      },
      "execution_count": 45,
      "outputs": [
        {
          "output_type": "execute_result",
          "data": {
            "text/plain": [
              "article_id            0\n",
              "product_code          0\n",
              "prod_name             0\n",
              "product_type_name     0\n",
              "product_group_name    0\n",
              "colour_group_name     0\n",
              "index_name            0\n",
              "index_group_name      0\n",
              "garment_group_name    0\n",
              "dtype: int64"
            ]
          },
          "metadata": {},
          "execution_count": 45
        }
      ]
    },
    {
      "cell_type": "code",
      "source": [
        "# the production of product colour\n",
        "\n",
        "fix, col = plt.subplots(figsize=(15, 15))\n",
        "col = sns.histplot(data=df_a1,y='colour_group_name', color ='#CC071E')\n",
        "col.set_xlabel(['Number of Products'])\n",
        "col.set_ylabel('Colour')\n",
        "plt.show()"
      ],
      "metadata": {
        "colab": {
          "base_uri": "https://localhost:8080/",
          "height": 877
        },
        "id": "5wBkMmEHfNQ4",
        "outputId": "fccb0c88-f5ac-4a13-90fb-b1d70a24bb5a"
      },
      "execution_count": 46,
      "outputs": [
        {
          "output_type": "display_data",
          "data": {
            "text/plain": [
              "<Figure size 1080x1080 with 1 Axes>"
            ],
            "image/png": "[encoded data removed]"
          },
          "metadata": {
            "needs_background": "light"
          }
        }
      ]
    },
    {
      "cell_type": "code",
      "source": [
        "#top 10 colours\n",
        "top5col = df_a1['colour_group_name'].value_counts()[:5].sort_values(ascending=False)\n",
        "print(top10col)"
      ],
      "metadata": {
        "colab": {
          "base_uri": "https://localhost:8080/"
        },
        "id": "ghEiCZFwtqIT",
        "outputId": "a5f9265a-22df-4a4d-fa80-bea0aba3c7e4"
      },
      "execution_count": 47,
      "outputs": [
        {
          "output_type": "stream",
          "name": "stdout",
          "text": [
            "       Colour  Number of Products\n",
            "0       Black               22670\n",
            "1   Dark Blue               12171\n",
            "2       White                9542\n",
            "3  Light Pink                5811\n",
            "4        Grey                4487\n"
          ]
        }
      ]
    },
    {
      "cell_type": "code",
      "source": [
        "top5col = top10col.reset_index()\n",
        "top5col.rename(columns = {\"colour_group_name\":\"Number of Products\",\"index\":\"Colour\"}, inplace=True)\n",
        "top5col.head()"
      ],
      "metadata": {
        "colab": {
          "base_uri": "https://localhost:8080/",
          "height": 206
        },
        "id": "TPRDmkjAvu88",
        "outputId": "74d05e6e-cd60-4755-e491-9c380b3a8843"
      },
      "execution_count": 48,
      "outputs": [
        {
          "output_type": "execute_result",
          "data": {
            "text/plain": [
              "  Colour      Colour  Number of Products\n",
              "0      0       Black               22670\n",
              "1      1   Dark Blue               12171\n",
              "2      2       White                9542\n",
              "3      3  Light Pink                5811\n",
              "4      4        Grey                4487"
            ],
            "text/html": [
              "\n",
              "  <div id=\"df-82564531-2622-400e-8fda-cb5c6cb6af8a\">\n",
              "    <div class=\"colab-df-container\">\n",
              "      <div>\n",
              "<style scoped>\n",
              "    .dataframe tbody tr th:only-of-type {\n",
              "        vertical-align: middle;\n",
              "    }\n",
              "\n",
              "    .dataframe tbody tr th {\n",
              "        vertical-align: top;\n",
              "    }\n",
              "\n",
              "    .dataframe thead th {\n",
              "        text-align: right;\n",
              "    }\n",
              "</style>\n",
              "<table border=\"1\" class=\"dataframe\">\n",
              "  <thead>\n",
              "    <tr style=\"text-align: right;\">\n",
              "      <th></th>\n",
              "      <th>Colour</th>\n",
              "      <th>Colour</th>\n",
              "      <th>Number of Products</th>\n",
              "    </tr>\n",
              "  </thead>\n",
              "  <tbody>\n",
              "    <tr>\n",
              "      <th>0</th>\n",
              "      <td>0</td>\n",
              "      <td>Black</td>\n",
              "      <td>22670</td>\n",
              "    </tr>\n",
              "    <tr>\n",
              "      <th>1</th>\n",
              "      <td>1</td>\n",
              "      <td>Dark Blue</td>\n",
              "      <td>12171</td>\n",
              "    </tr>\n",
              "    <tr>\n",
              "      <th>2</th>\n",
              "      <td>2</td>\n",
              "      <td>White</td>\n",
              "      <td>9542</td>\n",
              "    </tr>\n",
              "    <tr>\n",
              "      <th>3</th>\n",
              "      <td>3</td>\n",
              "      <td>Light Pink</td>\n",
              "      <td>5811</td>\n",
              "    </tr>\n",
              "    <tr>\n",
              "      <th>4</th>\n",
              "      <td>4</td>\n",
              "      <td>Grey</td>\n",
              "      <td>4487</td>\n",
              "    </tr>\n",
              "  </tbody>\n",
              "</table>\n",
              "</div>\n",
              "      <button class=\"colab-df-convert\" onclick=\"convertToInteractive('df-82564531-2622-400e-8fda-cb5c6cb6af8a')\"\n",
              "              title=\"Convert this dataframe to an interactive table.\"\n",
              "              style=\"display:none;\">\n",
              "        \n",
              "  <svg xmlns=\"http://www.w3.org/2000/svg\" height=\"24px\"viewBox=\"0 0 24 24\"\n",
              "       width=\"24px\">\n",
              "    <path d=\"M0 0h24v24H0V0z\" fill=\"none\"/>\n",
              "    <path d=\"M18.56 5.44l.94 2.06.94-2.06 2.06-.94-2.06-.94-.94-2.06-.94 2.06-2.06.94zm-11 1L8.5 8.5l.94-2.06 2.06-.94-2.06-.94L8.5 2.5l-.94 2.06-2.06.94zm10 10l.94 2.06.94-2.06 2.06-.94-2.06-.94-.94-2.06-.94 2.06-2.06.94z\"/><path d=\"M17.41 7.96l-1.37-1.37c-.4-.4-.92-.59-1.43-.59-.52 0-1.04.2-1.43.59L10.3 9.45l-7.72 7.72c-.78.78-.78 2.05 0 2.83L4 21.41c.39.39.9.59 1.41.59.51 0 1.02-.2 1.41-.59l7.78-7.78 2.81-2.81c.8-.78.8-2.07 0-2.86zM5.41 20L4 18.59l7.72-7.72 1.47 1.35L5.41 20z\"/>\n",
              "  </svg>\n",
              "      </button>\n",
              "      \n",
              "  <style>\n",
              "    .colab-df-container {\n",
              "      display:flex;\n",
              "      flex-wrap:wrap;\n",
              "      gap: 12px;\n",
              "    }\n",
              "\n",
              "    .colab-df-convert {\n",
              "      background-color: #E8F0FE;\n",
              "      border: none;\n",
              "      border-radius: 50%;\n",
              "      cursor: pointer;\n",
              "      display: none;\n",
              "      fill: #1967D2;\n",
              "      height: 32px;\n",
              "      padding: 0 0 0 0;\n",
              "      width: 32px;\n",
              "    }\n",
              "\n",
              "    .colab-df-convert:hover {\n",
              "      background-color: #E2EBFA;\n",
              "      box-shadow: 0px 1px 2px rgba(60, 64, 67, 0.3), 0px 1px 3px 1px rgba(60, 64, 67, 0.15);\n",
              "      fill: #174EA6;\n",
              "    }\n",
              "\n",
              "    [theme=dark] .colab-df-convert {\n",
              "      background-color: #3B4455;\n",
              "      fill: #D2E3FC;\n",
              "    }\n",
              "\n",
              "    [theme=dark] .colab-df-convert:hover {\n",
              "      background-color: #434B5C;\n",
              "      box-shadow: 0px 1px 3px 1px rgba(0, 0, 0, 0.15);\n",
              "      filter: drop-shadow(0px 1px 2px rgba(0, 0, 0, 0.3));\n",
              "      fill: #FFFFFF;\n",
              "    }\n",
              "  </style>\n",
              "\n",
              "      <script>\n",
              "        const buttonEl =\n",
              "          document.querySelector('#df-82564531-2622-400e-8fda-cb5c6cb6af8a button.colab-df-convert');\n",
              "        buttonEl.style.display =\n",
              "          google.colab.kernel.accessAllowed ? 'block' : 'none';\n",
              "\n",
              "        async function convertToInteractive(key) {\n",
              "          const element = document.querySelector('#df-82564531-2622-400e-8fda-cb5c6cb6af8a');\n",
              "          const dataTable =\n",
              "            await google.colab.kernel.invokeFunction('convertToInteractive',\n",
              "                                                     [key], {});\n",
              "          if (!dataTable) return;\n",
              "\n",
              "          const docLinkHtml = 'Like what you see? Visit the ' +\n",
              "            '<a target=\"_blank\" href=https://colab.research.google.com/notebooks/data_table.ipynb>data table notebook</a>'\n",
              "            + ' to learn more about interactive tables.';\n",
              "          element.innerHTML = '';\n",
              "          dataTable['output_type'] = 'display_data';\n",
              "          await google.colab.output.renderOutput(dataTable, element);\n",
              "          const docLink = document.createElement('div');\n",
              "          docLink.innerHTML = docLinkHtml;\n",
              "          element.appendChild(docLink);\n",
              "        }\n",
              "      </script>\n",
              "    </div>\n",
              "  </div>\n",
              "  "
            ]
          },
          "metadata": {},
          "execution_count": 48
        }
      ]
    },
    {
      "cell_type": "code",
      "source": [
        "top5 = plt.subplots(figsize=(10, 7))\n",
        "top5 = sns.barplot(data =top10col, x = 'Colour', y = 'Number of Products',color ='#CC071E')"
      ],
      "metadata": {
        "colab": {
          "base_uri": "https://localhost:8080/",
          "height": 442
        },
        "id": "qeADXf9iwe4N",
        "outputId": "2da13d35-2ec1-4872-c7a5-66ccb33f418e"
      },
      "execution_count": 49,
      "outputs": [
        {
          "output_type": "display_data",
          "data": {
            "text/plain": [
              "<Figure size 720x504 with 1 Axes>"
            ],
            "image/png": "[encoded data removed]"
          },
          "metadata": {
            "needs_background": "light"
          }
        }
      ]
    },
    {
      "cell_type": "code",
      "source": [
        "#top 5 Garments\n",
        "top_garment = df_a1['garment_group_name'].value_counts()[:5].sort_values(ascending=False)\n",
        "print(top_garment)"
      ],
      "metadata": {
        "colab": {
          "base_uri": "https://localhost:8080/"
        },
        "id": "3Bo1IMbXyYUA",
        "outputId": "5c6c0afc-c75a-40f1-c304-ac79b951ba52"
      },
      "execution_count": 50,
      "outputs": [
        {
          "output_type": "stream",
          "name": "stdout",
          "text": [
            "Jersey Fancy         21445\n",
            "Accessories          11519\n",
            "Jersey Basic          8126\n",
            "Knitwear              7490\n",
            "Under-, Nightwear     7441\n",
            "Name: garment_group_name, dtype: int64\n"
          ]
        }
      ]
    },
    {
      "cell_type": "code",
      "source": [
        "top_garment_df = pd.DataFrame(top_garment)\n",
        "top_garment_df.reset_index(inplace=True)\n",
        "top_garment_df.rename(columns = {\"index\":\"Garment Name\",\"garment_group_name\":\"Number of Products\"},inplace=True)\n",
        "print(top_garment_df)"
      ],
      "metadata": {
        "colab": {
          "base_uri": "https://localhost:8080/"
        },
        "id": "3frgdvZCzrSS",
        "outputId": "c16c9c3a-c661-44c5-c03e-ccb49c2990da"
      },
      "execution_count": 51,
      "outputs": [
        {
          "output_type": "stream",
          "name": "stdout",
          "text": [
            "        Garment Name  Number of Products\n",
            "0       Jersey Fancy               21445\n",
            "1        Accessories               11519\n",
            "2       Jersey Basic                8126\n",
            "3           Knitwear                7490\n",
            "4  Under-, Nightwear                7441\n"
          ]
        }
      ]
    },
    {
      "cell_type": "code",
      "source": [
        "top5garment = plt.subplots(figsize=(10, 7))\n",
        "top5garment = sns.barplot(data =top_garment_df, x = 'Garment Name', y = 'Number of Products',color ='#CC071E')"
      ],
      "metadata": {
        "colab": {
          "base_uri": "https://localhost:8080/",
          "height": 442
        },
        "id": "q7VyxPplFszC",
        "outputId": "84f2e794-5b84-4fa8-f302-224aef981317"
      },
      "execution_count": 52,
      "outputs": [
        {
          "output_type": "display_data",
          "data": {
            "text/plain": [
              "<Figure size 720x504 with 1 Axes>"
            ],
            "image/png": "[encoded data removed]"
          },
          "metadata": {
            "needs_background": "light"
          }
        }
      ]
    },
    {
      "cell_type": "code",
      "source": [
        "#Correlation \n",
        "corr = df_a.corr()\n",
        "corr.style.background_gradient (cmap = \"Reds_r\")"
      ],
      "metadata": {
        "colab": {
          "base_uri": "https://localhost:8080/",
          "height": 414
        },
        "id": "m_oK3TKpime5",
        "outputId": "7d9a1e73-7158-4e58-e6db-abd4b13f7581"
      },
      "execution_count": 53,
      "outputs": [
        {
          "output_type": "execute_result",
          "data": {
            "text/plain": [
              "<pandas.io.formats.style.Styler at 0x7f60278d7b90>"
            ],
            "text/html": [
              "<style type=\"text/css\">\n",
              "#T_c0ca7_row0_col0, #T_c0ca7_row0_col1, #T_c0ca7_row1_col0, #T_c0ca7_row1_col1, #T_c0ca7_row2_col2, #T_c0ca7_row3_col3, #T_c0ca7_row4_col4, #T_c0ca7_row5_col5, #T_c0ca7_row6_col6, #T_c0ca7_row7_col7, #T_c0ca7_row8_col8, #T_c0ca7_row9_col9, #T_c0ca7_row10_col10 {\n",
              "  background-color: #fff5f0;\n",
              "  color: #000000;\n",
              "}\n",
              "#T_c0ca7_row0_col2, #T_c0ca7_row1_col2 {\n",
              "  background-color: #d82422;\n",
              "  color: #f1f1f1;\n",
              "}\n",
              "#T_c0ca7_row0_col3, #T_c0ca7_row1_col3 {\n",
              "  background-color: #6b010e;\n",
              "  color: #f1f1f1;\n",
              "}\n",
              "#T_c0ca7_row0_col4, #T_c0ca7_row1_col4, #T_c0ca7_row6_col8 {\n",
              "  background-color: #960b13;\n",
              "  color: #f1f1f1;\n",
              "}\n",
              "#T_c0ca7_row0_col5, #T_c0ca7_row0_col7, #T_c0ca7_row1_col5, #T_c0ca7_row1_col7, #T_c0ca7_row2_col3, #T_c0ca7_row2_col5, #T_c0ca7_row2_col9, #T_c0ca7_row2_col10, #T_c0ca7_row4_col6, #T_c0ca7_row6_col4, #T_c0ca7_row7_col0, #T_c0ca7_row7_col1, #T_c0ca7_row7_col3, #T_c0ca7_row10_col2, #T_c0ca7_row10_col8 {\n",
              "  background-color: #67000d;\n",
              "  color: #f1f1f1;\n",
              "}\n",
              "#T_c0ca7_row0_col6, #T_c0ca7_row1_col6, #T_c0ca7_row4_col8 {\n",
              "  background-color: #af1117;\n",
              "  color: #f1f1f1;\n",
              "}\n",
              "#T_c0ca7_row0_col8, #T_c0ca7_row1_col8 {\n",
              "  background-color: #900a12;\n",
              "  color: #f1f1f1;\n",
              "}\n",
              "#T_c0ca7_row0_col9, #T_c0ca7_row1_col9, #T_c0ca7_row10_col5 {\n",
              "  background-color: #860811;\n",
              "  color: #f1f1f1;\n",
              "}\n",
              "#T_c0ca7_row0_col10, #T_c0ca7_row1_col10 {\n",
              "  background-color: #db2824;\n",
              "  color: #f1f1f1;\n",
              "}\n",
              "#T_c0ca7_row2_col0, #T_c0ca7_row2_col1 {\n",
              "  background-color: #7c0510;\n",
              "  color: #f1f1f1;\n",
              "}\n",
              "#T_c0ca7_row2_col4, #T_c0ca7_row8_col10 {\n",
              "  background-color: #c1161b;\n",
              "  color: #f1f1f1;\n",
              "}\n",
              "#T_c0ca7_row2_col6 {\n",
              "  background-color: #9c0d14;\n",
              "  color: #f1f1f1;\n",
              "}\n",
              "#T_c0ca7_row2_col7 {\n",
              "  background-color: #880811;\n",
              "  color: #f1f1f1;\n",
              "}\n",
              "#T_c0ca7_row2_col8 {\n",
              "  background-color: #b71319;\n",
              "  color: #f1f1f1;\n",
              "}\n",
              "#T_c0ca7_row3_col0, #T_c0ca7_row3_col1, #T_c0ca7_row5_col7, #T_c0ca7_row6_col0, #T_c0ca7_row6_col1 {\n",
              "  background-color: #8e0912;\n",
              "  color: #f1f1f1;\n",
              "}\n",
              "#T_c0ca7_row3_col2, #T_c0ca7_row4_col10, #T_c0ca7_row7_col2 {\n",
              "  background-color: #dd2a25;\n",
              "  color: #f1f1f1;\n",
              "}\n",
              "#T_c0ca7_row3_col4, #T_c0ca7_row3_col6 {\n",
              "  background-color: #b11218;\n",
              "  color: #f1f1f1;\n",
              "}\n",
              "#T_c0ca7_row3_col5, #T_c0ca7_row3_col7, #T_c0ca7_row6_col5 {\n",
              "  background-color: #8a0812;\n",
              "  color: #f1f1f1;\n",
              "}\n",
              "#T_c0ca7_row3_col8, #T_c0ca7_row10_col6 {\n",
              "  background-color: #a60f15;\n",
              "  color: #f1f1f1;\n",
              "}\n",
              "#T_c0ca7_row3_col9 {\n",
              "  background-color: #9f0e14;\n",
              "  color: #f1f1f1;\n",
              "}\n",
              "#T_c0ca7_row3_col10 {\n",
              "  background-color: #e12d26;\n",
              "  color: #f1f1f1;\n",
              "}\n",
              "#T_c0ca7_row4_col0, #T_c0ca7_row4_col1, #T_c0ca7_row9_col3, #T_c0ca7_row10_col3 {\n",
              "  background-color: #6d010e;\n",
              "  color: #f1f1f1;\n",
              "}\n",
              "#T_c0ca7_row4_col2 {\n",
              "  background-color: #ed392b;\n",
              "  color: #f1f1f1;\n",
              "}\n",
              "#T_c0ca7_row4_col3 {\n",
              "  background-color: #6f020e;\n",
              "  color: #f1f1f1;\n",
              "}\n",
              "#T_c0ca7_row4_col5 {\n",
              "  background-color: #9d0d14;\n",
              "  color: #f1f1f1;\n",
              "}\n",
              "#T_c0ca7_row4_col7, #T_c0ca7_row8_col4 {\n",
              "  background-color: #b61319;\n",
              "  color: #f1f1f1;\n",
              "}\n",
              "#T_c0ca7_row4_col9, #T_c0ca7_row7_col6 {\n",
              "  background-color: #a81016;\n",
              "  color: #f1f1f1;\n",
              "}\n",
              "#T_c0ca7_row5_col0, #T_c0ca7_row5_col1 {\n",
              "  background-color: #73030f;\n",
              "  color: #f1f1f1;\n",
              "}\n",
              "#T_c0ca7_row5_col2, #T_c0ca7_row6_col2 {\n",
              "  background-color: #d42121;\n",
              "  color: #f1f1f1;\n",
              "}\n",
              "#T_c0ca7_row5_col3, #T_c0ca7_row8_col0, #T_c0ca7_row8_col1, #T_c0ca7_row9_col0, #T_c0ca7_row9_col1 {\n",
              "  background-color: #75030f;\n",
              "  color: #f1f1f1;\n",
              "}\n",
              "#T_c0ca7_row5_col4 {\n",
              "  background-color: #be151a;\n",
              "  color: #f1f1f1;\n",
              "}\n",
              "#T_c0ca7_row5_col6 {\n",
              "  background-color: #b31218;\n",
              "  color: #f1f1f1;\n",
              "}\n",
              "#T_c0ca7_row5_col8 {\n",
              "  background-color: #ad1117;\n",
              "  color: #f1f1f1;\n",
              "}\n",
              "#T_c0ca7_row5_col9, #T_c0ca7_row6_col9 {\n",
              "  background-color: #9a0c14;\n",
              "  color: #f1f1f1;\n",
              "}\n",
              "#T_c0ca7_row5_col10 {\n",
              "  background-color: #e22e27;\n",
              "  color: #f1f1f1;\n",
              "}\n",
              "#T_c0ca7_row6_col3, #T_c0ca7_row10_col7 {\n",
              "  background-color: #71020e;\n",
              "  color: #f1f1f1;\n",
              "}\n",
              "#T_c0ca7_row6_col7, #T_c0ca7_row7_col5, #T_c0ca7_row9_col8 {\n",
              "  background-color: #820711;\n",
              "  color: #f1f1f1;\n",
              "}\n",
              "#T_c0ca7_row6_col10, #T_c0ca7_row10_col9 {\n",
              "  background-color: #d92523;\n",
              "  color: #f1f1f1;\n",
              "}\n",
              "#T_c0ca7_row7_col4 {\n",
              "  background-color: #cb181d;\n",
              "  color: #f1f1f1;\n",
              "}\n",
              "#T_c0ca7_row7_col8 {\n",
              "  background-color: #fb7151;\n",
              "  color: #f1f1f1;\n",
              "}\n",
              "#T_c0ca7_row7_col9 {\n",
              "  background-color: #f34c37;\n",
              "  color: #f1f1f1;\n",
              "}\n",
              "#T_c0ca7_row7_col10 {\n",
              "  background-color: #d32020;\n",
              "  color: #f1f1f1;\n",
              "}\n",
              "#T_c0ca7_row8_col2 {\n",
              "  background-color: #eb372a;\n",
              "  color: #f1f1f1;\n",
              "}\n",
              "#T_c0ca7_row8_col3 {\n",
              "  background-color: #69000d;\n",
              "  color: #f1f1f1;\n",
              "}\n",
              "#T_c0ca7_row8_col5 {\n",
              "  background-color: #8c0912;\n",
              "  color: #f1f1f1;\n",
              "}\n",
              "#T_c0ca7_row8_col6 {\n",
              "  background-color: #a10e15;\n",
              "  color: #f1f1f1;\n",
              "}\n",
              "#T_c0ca7_row8_col7 {\n",
              "  background-color: #fa6849;\n",
              "  color: #f1f1f1;\n",
              "}\n",
              "#T_c0ca7_row8_col9 {\n",
              "  background-color: #79040f;\n",
              "  color: #f1f1f1;\n",
              "}\n",
              "#T_c0ca7_row9_col2 {\n",
              "  background-color: #c7171c;\n",
              "  color: #f1f1f1;\n",
              "}\n",
              "#T_c0ca7_row9_col4 {\n",
              "  background-color: #b51318;\n",
              "  color: #f1f1f1;\n",
              "}\n",
              "#T_c0ca7_row9_col5 {\n",
              "  background-color: #7a0510;\n",
              "  color: #f1f1f1;\n",
              "}\n",
              "#T_c0ca7_row9_col6 {\n",
              "  background-color: #ab1016;\n",
              "  color: #f1f1f1;\n",
              "}\n",
              "#T_c0ca7_row9_col7 {\n",
              "  background-color: #f14331;\n",
              "  color: #f1f1f1;\n",
              "}\n",
              "#T_c0ca7_row9_col10 {\n",
              "  background-color: #f75c41;\n",
              "  color: #f1f1f1;\n",
              "}\n",
              "#T_c0ca7_row10_col0, #T_c0ca7_row10_col1 {\n",
              "  background-color: #840711;\n",
              "  color: #f1f1f1;\n",
              "}\n",
              "#T_c0ca7_row10_col4 {\n",
              "  background-color: #ac1117;\n",
              "  color: #f1f1f1;\n",
              "}\n",
              "</style>\n",
              "<table id=\"T_c0ca7_\" class=\"dataframe\">\n",
              "  <thead>\n",
              "    <tr>\n",
              "      <th class=\"blank level0\" >&nbsp;</th>\n",
              "      <th class=\"col_heading level0 col0\" >article_id</th>\n",
              "      <th class=\"col_heading level0 col1\" >product_code</th>\n",
              "      <th class=\"col_heading level0 col2\" >product_type_no</th>\n",
              "      <th class=\"col_heading level0 col3\" >graphical_appearance_no</th>\n",
              "      <th class=\"col_heading level0 col4\" >colour_group_code</th>\n",
              "      <th class=\"col_heading level0 col5\" >perceived_colour_value_id</th>\n",
              "      <th class=\"col_heading level0 col6\" >perceived_colour_master_id</th>\n",
              "      <th class=\"col_heading level0 col7\" >department_no</th>\n",
              "      <th class=\"col_heading level0 col8\" >index_group_no</th>\n",
              "      <th class=\"col_heading level0 col9\" >section_no</th>\n",
              "      <th class=\"col_heading level0 col10\" >garment_group_no</th>\n",
              "    </tr>\n",
              "  </thead>\n",
              "  <tbody>\n",
              "    <tr>\n",
              "      <th id=\"T_c0ca7_level0_row0\" class=\"row_heading level0 row0\" >article_id</th>\n",
              "      <td id=\"T_c0ca7_row0_col0\" class=\"data row0 col0\" >1.000000</td>\n",
              "      <td id=\"T_c0ca7_row0_col1\" class=\"data row0 col1\" >1.000000</td>\n",
              "      <td id=\"T_c0ca7_row0_col2\" class=\"data row0 col2\" >-0.029674</td>\n",
              "      <td id=\"T_c0ca7_row0_col3\" class=\"data row0 col3\" >0.007993</td>\n",
              "      <td id=\"T_c0ca7_row0_col4\" class=\"data row0 col4\" >-0.064497</td>\n",
              "      <td id=\"T_c0ca7_row0_col5\" class=\"data row0 col5\" >-0.048664</td>\n",
              "      <td id=\"T_c0ca7_row0_col6\" class=\"data row0 col6\" >0.010208</td>\n",
              "      <td id=\"T_c0ca7_row0_col7\" class=\"data row0 col7\" >-0.077247</td>\n",
              "      <td id=\"T_c0ca7_row0_col8\" class=\"data row0 col8\" >-0.047474</td>\n",
              "      <td id=\"T_c0ca7_row0_col9\" class=\"data row0 col9\" >-0.044521</td>\n",
              "      <td id=\"T_c0ca7_row0_col10\" class=\"data row0 col10\" >-0.013408</td>\n",
              "    </tr>\n",
              "    <tr>\n",
              "      <th id=\"T_c0ca7_level0_row1\" class=\"row_heading level0 row1\" >product_code</th>\n",
              "      <td id=\"T_c0ca7_row1_col0\" class=\"data row1 col0\" >1.000000</td>\n",
              "      <td id=\"T_c0ca7_row1_col1\" class=\"data row1 col1\" >1.000000</td>\n",
              "      <td id=\"T_c0ca7_row1_col2\" class=\"data row1 col2\" >-0.029674</td>\n",
              "      <td id=\"T_c0ca7_row1_col3\" class=\"data row1 col3\" >0.007993</td>\n",
              "      <td id=\"T_c0ca7_row1_col4\" class=\"data row1 col4\" >-0.064497</td>\n",
              "      <td id=\"T_c0ca7_row1_col5\" class=\"data row1 col5\" >-0.048664</td>\n",
              "      <td id=\"T_c0ca7_row1_col6\" class=\"data row1 col6\" >0.010208</td>\n",
              "      <td id=\"T_c0ca7_row1_col7\" class=\"data row1 col7\" >-0.077247</td>\n",
              "      <td id=\"T_c0ca7_row1_col8\" class=\"data row1 col8\" >-0.047474</td>\n",
              "      <td id=\"T_c0ca7_row1_col9\" class=\"data row1 col9\" >-0.044521</td>\n",
              "      <td id=\"T_c0ca7_row1_col10\" class=\"data row1 col10\" >-0.013408</td>\n",
              "    </tr>\n",
              "    <tr>\n",
              "      <th id=\"T_c0ca7_level0_row2\" class=\"row_heading level0 row2\" >product_type_no</th>\n",
              "      <td id=\"T_c0ca7_row2_col0\" class=\"data row2 col0\" >-0.029674</td>\n",
              "      <td id=\"T_c0ca7_row2_col1\" class=\"data row2 col1\" >-0.029674</td>\n",
              "      <td id=\"T_c0ca7_row2_col2\" class=\"data row2 col2\" >1.000000</td>\n",
              "      <td id=\"T_c0ca7_row2_col3\" class=\"data row2 col3\" >-0.001438</td>\n",
              "      <td id=\"T_c0ca7_row2_col4\" class=\"data row2 col4\" >0.077929</td>\n",
              "      <td id=\"T_c0ca7_row2_col5\" class=\"data row2 col5\" >-0.046910</td>\n",
              "      <td id=\"T_c0ca7_row2_col6\" class=\"data row2 col6\" >-0.049135</td>\n",
              "      <td id=\"T_c0ca7_row2_col7\" class=\"data row2 col7\" >-0.001921</td>\n",
              "      <td id=\"T_c0ca7_row2_col8\" class=\"data row2 col8\" >0.067162</td>\n",
              "      <td id=\"T_c0ca7_row2_col9\" class=\"data row2 col9\" >-0.118532</td>\n",
              "      <td id=\"T_c0ca7_row2_col10\" class=\"data row2 col10\" >-0.461593</td>\n",
              "    </tr>\n",
              "    <tr>\n",
              "      <th id=\"T_c0ca7_level0_row3\" class=\"row_heading level0 row3\" >graphical_appearance_no</th>\n",
              "      <td id=\"T_c0ca7_row3_col0\" class=\"data row3 col0\" >0.007993</td>\n",
              "      <td id=\"T_c0ca7_row3_col1\" class=\"data row3 col1\" >0.007993</td>\n",
              "      <td id=\"T_c0ca7_row3_col2\" class=\"data row3 col2\" >-0.001438</td>\n",
              "      <td id=\"T_c0ca7_row3_col3\" class=\"data row3 col3\" >1.000000</td>\n",
              "      <td id=\"T_c0ca7_row3_col4\" class=\"data row3 col4\" >0.016824</td>\n",
              "      <td id=\"T_c0ca7_row3_col5\" class=\"data row3 col5\" >0.026956</td>\n",
              "      <td id=\"T_c0ca7_row3_col6\" class=\"data row3 col6\" >0.019440</td>\n",
              "      <td id=\"T_c0ca7_row3_col7\" class=\"data row3 col7\" >-0.000316</td>\n",
              "      <td id=\"T_c0ca7_row3_col8\" class=\"data row3 col8\" >0.004883</td>\n",
              "      <td id=\"T_c0ca7_row3_col9\" class=\"data row3 col9\" >0.011345</td>\n",
              "      <td id=\"T_c0ca7_row3_col10\" class=\"data row3 col10\" >0.013072</td>\n",
              "    </tr>\n",
              "    <tr>\n",
              "      <th id=\"T_c0ca7_level0_row4\" class=\"row_heading level0 row4\" >colour_group_code</th>\n",
              "      <td id=\"T_c0ca7_row4_col0\" class=\"data row4 col0\" >-0.064497</td>\n",
              "      <td id=\"T_c0ca7_row4_col1\" class=\"data row4 col1\" >-0.064497</td>\n",
              "      <td id=\"T_c0ca7_row4_col2\" class=\"data row4 col2\" >0.077929</td>\n",
              "      <td id=\"T_c0ca7_row4_col3\" class=\"data row4 col3\" >0.016824</td>\n",
              "      <td id=\"T_c0ca7_row4_col4\" class=\"data row4 col4\" >1.000000</td>\n",
              "      <td id=\"T_c0ca7_row4_col5\" class=\"data row4 col5\" >0.066724</td>\n",
              "      <td id=\"T_c0ca7_row4_col6\" class=\"data row4 col6\" >-0.177083</td>\n",
              "      <td id=\"T_c0ca7_row4_col7\" class=\"data row4 col7\" >0.119798</td>\n",
              "      <td id=\"T_c0ca7_row4_col8\" class=\"data row4 col8\" >0.035616</td>\n",
              "      <td id=\"T_c0ca7_row4_col9\" class=\"data row4 col9\" >0.032955</td>\n",
              "      <td id=\"T_c0ca7_row4_col10\" class=\"data row4 col10\" >-0.000316</td>\n",
              "    </tr>\n",
              "    <tr>\n",
              "      <th id=\"T_c0ca7_level0_row5\" class=\"row_heading level0 row5\" >perceived_colour_value_id</th>\n",
              "      <td id=\"T_c0ca7_row5_col0\" class=\"data row5 col0\" >-0.048664</td>\n",
              "      <td id=\"T_c0ca7_row5_col1\" class=\"data row5 col1\" >-0.048664</td>\n",
              "      <td id=\"T_c0ca7_row5_col2\" class=\"data row5 col2\" >-0.046910</td>\n",
              "      <td id=\"T_c0ca7_row5_col3\" class=\"data row5 col3\" >0.026956</td>\n",
              "      <td id=\"T_c0ca7_row5_col4\" class=\"data row5 col4\" >0.066724</td>\n",
              "      <td id=\"T_c0ca7_row5_col5\" class=\"data row5 col5\" >1.000000</td>\n",
              "      <td id=\"T_c0ca7_row5_col6\" class=\"data row5 col6\" >0.027785</td>\n",
              "      <td id=\"T_c0ca7_row5_col7\" class=\"data row5 col7\" >0.009986</td>\n",
              "      <td id=\"T_c0ca7_row5_col8\" class=\"data row5 col8\" >0.032685</td>\n",
              "      <td id=\"T_c0ca7_row5_col9\" class=\"data row5 col9\" >-0.004332</td>\n",
              "      <td id=\"T_c0ca7_row5_col10\" class=\"data row5 col10\" >0.020732</td>\n",
              "    </tr>\n",
              "    <tr>\n",
              "      <th id=\"T_c0ca7_level0_row6\" class=\"row_heading level0 row6\" >perceived_colour_master_id</th>\n",
              "      <td id=\"T_c0ca7_row6_col0\" class=\"data row6 col0\" >0.010208</td>\n",
              "      <td id=\"T_c0ca7_row6_col1\" class=\"data row6 col1\" >0.010208</td>\n",
              "      <td id=\"T_c0ca7_row6_col2\" class=\"data row6 col2\" >-0.049135</td>\n",
              "      <td id=\"T_c0ca7_row6_col3\" class=\"data row6 col3\" >0.019440</td>\n",
              "      <td id=\"T_c0ca7_row6_col4\" class=\"data row6 col4\" >-0.177083</td>\n",
              "      <td id=\"T_c0ca7_row6_col5\" class=\"data row6 col5\" >0.027785</td>\n",
              "      <td id=\"T_c0ca7_row6_col6\" class=\"data row6 col6\" >1.000000</td>\n",
              "      <td id=\"T_c0ca7_row6_col7\" class=\"data row6 col7\" >-0.017224</td>\n",
              "      <td id=\"T_c0ca7_row6_col8\" class=\"data row6 col8\" >-0.035996</td>\n",
              "      <td id=\"T_c0ca7_row6_col9\" class=\"data row6 col9\" >-0.002461</td>\n",
              "      <td id=\"T_c0ca7_row6_col10\" class=\"data row6 col10\" >-0.022573</td>\n",
              "    </tr>\n",
              "    <tr>\n",
              "      <th id=\"T_c0ca7_level0_row7\" class=\"row_heading level0 row7\" >department_no</th>\n",
              "      <td id=\"T_c0ca7_row7_col0\" class=\"data row7 col0\" >-0.077247</td>\n",
              "      <td id=\"T_c0ca7_row7_col1\" class=\"data row7 col1\" >-0.077247</td>\n",
              "      <td id=\"T_c0ca7_row7_col2\" class=\"data row7 col2\" >-0.001921</td>\n",
              "      <td id=\"T_c0ca7_row7_col3\" class=\"data row7 col3\" >-0.000316</td>\n",
              "      <td id=\"T_c0ca7_row7_col4\" class=\"data row7 col4\" >0.119798</td>\n",
              "      <td id=\"T_c0ca7_row7_col5\" class=\"data row7 col5\" >0.009986</td>\n",
              "      <td id=\"T_c0ca7_row7_col6\" class=\"data row7 col6\" >-0.017224</td>\n",
              "      <td id=\"T_c0ca7_row7_col7\" class=\"data row7 col7\" >1.000000</td>\n",
              "      <td id=\"T_c0ca7_row7_col8\" class=\"data row7 col8\" >0.453340</td>\n",
              "      <td id=\"T_c0ca7_row7_col9\" class=\"data row7 col9\" >0.349181</td>\n",
              "      <td id=\"T_c0ca7_row7_col10\" class=\"data row7 col10\" >-0.053457</td>\n",
              "    </tr>\n",
              "    <tr>\n",
              "      <th id=\"T_c0ca7_level0_row8\" class=\"row_heading level0 row8\" >index_group_no</th>\n",
              "      <td id=\"T_c0ca7_row8_col0\" class=\"data row8 col0\" >-0.047474</td>\n",
              "      <td id=\"T_c0ca7_row8_col1\" class=\"data row8 col1\" >-0.047474</td>\n",
              "      <td id=\"T_c0ca7_row8_col2\" class=\"data row8 col2\" >0.067162</td>\n",
              "      <td id=\"T_c0ca7_row8_col3\" class=\"data row8 col3\" >0.004883</td>\n",
              "      <td id=\"T_c0ca7_row8_col4\" class=\"data row8 col4\" >0.035616</td>\n",
              "      <td id=\"T_c0ca7_row8_col5\" class=\"data row8 col5\" >0.032685</td>\n",
              "      <td id=\"T_c0ca7_row8_col6\" class=\"data row8 col6\" >-0.035996</td>\n",
              "      <td id=\"T_c0ca7_row8_col7\" class=\"data row8 col7\" >0.453340</td>\n",
              "      <td id=\"T_c0ca7_row8_col8\" class=\"data row8 col8\" >1.000000</td>\n",
              "      <td id=\"T_c0ca7_row8_col9\" class=\"data row8 col9\" >-0.077389</td>\n",
              "      <td id=\"T_c0ca7_row8_col10\" class=\"data row8 col10\" >-0.144313</td>\n",
              "    </tr>\n",
              "    <tr>\n",
              "      <th id=\"T_c0ca7_level0_row9\" class=\"row_heading level0 row9\" >section_no</th>\n",
              "      <td id=\"T_c0ca7_row9_col0\" class=\"data row9 col0\" >-0.044521</td>\n",
              "      <td id=\"T_c0ca7_row9_col1\" class=\"data row9 col1\" >-0.044521</td>\n",
              "      <td id=\"T_c0ca7_row9_col2\" class=\"data row9 col2\" >-0.118532</td>\n",
              "      <td id=\"T_c0ca7_row9_col3\" class=\"data row9 col3\" >0.011345</td>\n",
              "      <td id=\"T_c0ca7_row9_col4\" class=\"data row9 col4\" >0.032955</td>\n",
              "      <td id=\"T_c0ca7_row9_col5\" class=\"data row9 col5\" >-0.004332</td>\n",
              "      <td id=\"T_c0ca7_row9_col6\" class=\"data row9 col6\" >-0.002461</td>\n",
              "      <td id=\"T_c0ca7_row9_col7\" class=\"data row9 col7\" >0.349181</td>\n",
              "      <td id=\"T_c0ca7_row9_col8\" class=\"data row9 col8\" >-0.077389</td>\n",
              "      <td id=\"T_c0ca7_row9_col9\" class=\"data row9 col9\" >1.000000</td>\n",
              "      <td id=\"T_c0ca7_row9_col10\" class=\"data row9 col10\" >0.217788</td>\n",
              "    </tr>\n",
              "    <tr>\n",
              "      <th id=\"T_c0ca7_level0_row10\" class=\"row_heading level0 row10\" >garment_group_no</th>\n",
              "      <td id=\"T_c0ca7_row10_col0\" class=\"data row10 col0\" >-0.013408</td>\n",
              "      <td id=\"T_c0ca7_row10_col1\" class=\"data row10 col1\" >-0.013408</td>\n",
              "      <td id=\"T_c0ca7_row10_col2\" class=\"data row10 col2\" >-0.461593</td>\n",
              "      <td id=\"T_c0ca7_row10_col3\" class=\"data row10 col3\" >0.013072</td>\n",
              "      <td id=\"T_c0ca7_row10_col4\" class=\"data row10 col4\" >-0.000316</td>\n",
              "      <td id=\"T_c0ca7_row10_col5\" class=\"data row10 col5\" >0.020732</td>\n",
              "      <td id=\"T_c0ca7_row10_col6\" class=\"data row10 col6\" >-0.022573</td>\n",
              "      <td id=\"T_c0ca7_row10_col7\" class=\"data row10 col7\" >-0.053457</td>\n",
              "      <td id=\"T_c0ca7_row10_col8\" class=\"data row10 col8\" >-0.144313</td>\n",
              "      <td id=\"T_c0ca7_row10_col9\" class=\"data row10 col9\" >0.217788</td>\n",
              "      <td id=\"T_c0ca7_row10_col10\" class=\"data row10 col10\" >1.000000</td>\n",
              "    </tr>\n",
              "  </tbody>\n",
              "</table>\n"
            ]
          },
          "metadata": {},
          "execution_count": 53
        }
      ]
    },
    {
      "cell_type": "code",
      "source": [
        "#Data exploration (customers)\n",
        "df_c.head()"
      ],
      "metadata": {
        "colab": {
          "base_uri": "https://localhost:8080/",
          "height": 206
        },
        "id": "ouSVNu3OWxBl",
        "outputId": "d15ea04c-39a2-47b6-dbbd-74f75deb91ad"
      },
      "execution_count": 54,
      "outputs": [
        {
          "output_type": "execute_result",
          "data": {
            "text/plain": [
              "                                         customer_id   FN  Active  \\\n",
              "0  00000dbacae5abe5e23885899a1fa44253a17956c6d1c3...  NaN     NaN   \n",
              "1  0000423b00ade91418cceaf3b26c6af3dd342b51fd051e...  NaN     NaN   \n",
              "2  000058a12d5b43e67d225668fa1f8d618c13dc232df0ca...  NaN     NaN   \n",
              "3  00005ca1c9ed5f5146b52ac8639a40ca9d57aeff4d1bd2...  NaN     NaN   \n",
              "4  00006413d8573cd20ed7128e53b7b13819fe5cfc2d801f...  1.0     1.0   \n",
              "\n",
              "  club_member_status fashion_news_frequency   age  \\\n",
              "0             ACTIVE                   NONE  49.0   \n",
              "1             ACTIVE                   NONE  25.0   \n",
              "2             ACTIVE                   NONE  24.0   \n",
              "3             ACTIVE                   NONE  54.0   \n",
              "4             ACTIVE              Regularly  52.0   \n",
              "\n",
              "                                         postal_code  \n",
              "0  52043ee2162cf5aa7ee79974281641c6f11a68d276429a...  \n",
              "1  2973abc54daa8a5f8ccfe9362140c63247c5eee03f1d93...  \n",
              "2  64f17e6a330a85798e4998f62d0930d14db8db1c054af6...  \n",
              "3  5d36574f52495e81f019b680c843c443bd343d5ca5b1c2...  \n",
              "4  25fa5ddee9aac01b35208d01736e57942317d756b32ddd...  "
            ],
            "text/html": [
              "\n",
              "  <div id=\"df-5d5a3c95-bc8e-439e-812c-382800acd36e\">\n",
              "    <div class=\"colab-df-container\">\n",
              "      <div>\n",
              "<style scoped>\n",
              "    .dataframe tbody tr th:only-of-type {\n",
              "        vertical-align: middle;\n",
              "    }\n",
              "\n",
              "    .dataframe tbody tr th {\n",
              "        vertical-align: top;\n",
              "    }\n",
              "\n",
              "    .dataframe thead th {\n",
              "        text-align: right;\n",
              "    }\n",
              "</style>\n",
              "<table border=\"1\" class=\"dataframe\">\n",
              "  <thead>\n",
              "    <tr style=\"text-align: right;\">\n",
              "      <th></th>\n",
              "      <th>customer_id</th>\n",
              "      <th>FN</th>\n",
              "      <th>Active</th>\n",
              "      <th>club_member_status</th>\n",
              "      <th>fashion_news_frequency</th>\n",
              "      <th>age</th>\n",
              "      <th>postal_code</th>\n",
              "    </tr>\n",
              "  </thead>\n",
              "  <tbody>\n",
              "    <tr>\n",
              "      <th>0</th>\n",
              "      <td>00000dbacae5abe5e23885899a1fa44253a17956c6d1c3...</td>\n",
              "      <td>NaN</td>\n",
              "      <td>NaN</td>\n",
              "      <td>ACTIVE</td>\n",
              "      <td>NONE</td>\n",
              "      <td>49.0</td>\n",
              "      <td>52043ee2162cf5aa7ee79974281641c6f11a68d276429a...</td>\n",
              "    </tr>\n",
              "    <tr>\n",
              "      <th>1</th>\n",
              "      <td>0000423b00ade91418cceaf3b26c6af3dd342b51fd051e...</td>\n",
              "      <td>NaN</td>\n",
              "      <td>NaN</td>\n",
              "      <td>ACTIVE</td>\n",
              "      <td>NONE</td>\n",
              "      <td>25.0</td>\n",
              "      <td>2973abc54daa8a5f8ccfe9362140c63247c5eee03f1d93...</td>\n",
              "    </tr>\n",
              "    <tr>\n",
              "      <th>2</th>\n",
              "      <td>000058a12d5b43e67d225668fa1f8d618c13dc232df0ca...</td>\n",
              "      <td>NaN</td>\n",
              "      <td>NaN</td>\n",
              "      <td>ACTIVE</td>\n",
              "      <td>NONE</td>\n",
              "      <td>24.0</td>\n",
              "      <td>64f17e6a330a85798e4998f62d0930d14db8db1c054af6...</td>\n",
              "    </tr>\n",
              "    <tr>\n",
              "      <th>3</th>\n",
              "      <td>00005ca1c9ed5f5146b52ac8639a40ca9d57aeff4d1bd2...</td>\n",
              "      <td>NaN</td>\n",
              "      <td>NaN</td>\n",
              "      <td>ACTIVE</td>\n",
              "      <td>NONE</td>\n",
              "      <td>54.0</td>\n",
              "      <td>5d36574f52495e81f019b680c843c443bd343d5ca5b1c2...</td>\n",
              "    </tr>\n",
              "    <tr>\n",
              "      <th>4</th>\n",
              "      <td>00006413d8573cd20ed7128e53b7b13819fe5cfc2d801f...</td>\n",
              "      <td>1.0</td>\n",
              "      <td>1.0</td>\n",
              "      <td>ACTIVE</td>\n",
              "      <td>Regularly</td>\n",
              "      <td>52.0</td>\n",
              "      <td>25fa5ddee9aac01b35208d01736e57942317d756b32ddd...</td>\n",
              "    </tr>\n",
              "  </tbody>\n",
              "</table>\n",
              "</div>\n",
              "      <button class=\"colab-df-convert\" onclick=\"convertToInteractive('df-5d5a3c95-bc8e-439e-812c-382800acd36e')\"\n",
              "              title=\"Convert this dataframe to an interactive table.\"\n",
              "              style=\"display:none;\">\n",
              "        \n",
              "  <svg xmlns=\"http://www.w3.org/2000/svg\" height=\"24px\"viewBox=\"0 0 24 24\"\n",
              "       width=\"24px\">\n",
              "    <path d=\"M0 0h24v24H0V0z\" fill=\"none\"/>\n",
              "    <path d=\"M18.56 5.44l.94 2.06.94-2.06 2.06-.94-2.06-.94-.94-2.06-.94 2.06-2.06.94zm-11 1L8.5 8.5l.94-2.06 2.06-.94-2.06-.94L8.5 2.5l-.94 2.06-2.06.94zm10 10l.94 2.06.94-2.06 2.06-.94-2.06-.94-.94-2.06-.94 2.06-2.06.94z\"/><path d=\"M17.41 7.96l-1.37-1.37c-.4-.4-.92-.59-1.43-.59-.52 0-1.04.2-1.43.59L10.3 9.45l-7.72 7.72c-.78.78-.78 2.05 0 2.83L4 21.41c.39.39.9.59 1.41.59.51 0 1.02-.2 1.41-.59l7.78-7.78 2.81-2.81c.8-.78.8-2.07 0-2.86zM5.41 20L4 18.59l7.72-7.72 1.47 1.35L5.41 20z\"/>\n",
              "  </svg>\n",
              "      </button>\n",
              "      \n",
              "  <style>\n",
              "    .colab-df-container {\n",
              "      display:flex;\n",
              "      flex-wrap:wrap;\n",
              "      gap: 12px;\n",
              "    }\n",
              "\n",
              "    .colab-df-convert {\n",
              "      background-color: #E8F0FE;\n",
              "      border: none;\n",
              "      border-radius: 50%;\n",
              "      cursor: pointer;\n",
              "      display: none;\n",
              "      fill: #1967D2;\n",
              "      height: 32px;\n",
              "      padding: 0 0 0 0;\n",
              "      width: 32px;\n",
              "    }\n",
              "\n",
              "    .colab-df-convert:hover {\n",
              "      background-color: #E2EBFA;\n",
              "      box-shadow: 0px 1px 2px rgba(60, 64, 67, 0.3), 0px 1px 3px 1px rgba(60, 64, 67, 0.15);\n",
              "      fill: #174EA6;\n",
              "    }\n",
              "\n",
              "    [theme=dark] .colab-df-convert {\n",
              "      background-color: #3B4455;\n",
              "      fill: #D2E3FC;\n",
              "    }\n",
              "\n",
              "    [theme=dark] .colab-df-convert:hover {\n",
              "      background-color: #434B5C;\n",
              "      box-shadow: 0px 1px 3px 1px rgba(0, 0, 0, 0.15);\n",
              "      filter: drop-shadow(0px 1px 2px rgba(0, 0, 0, 0.3));\n",
              "      fill: #FFFFFF;\n",
              "    }\n",
              "  </style>\n",
              "\n",
              "      <script>\n",
              "        const buttonEl =\n",
              "          document.querySelector('#df-5d5a3c95-bc8e-439e-812c-382800acd36e button.colab-df-convert');\n",
              "        buttonEl.style.display =\n",
              "          google.colab.kernel.accessAllowed ? 'block' : 'none';\n",
              "\n",
              "        async function convertToInteractive(key) {\n",
              "          const element = document.querySelector('#df-5d5a3c95-bc8e-439e-812c-382800acd36e');\n",
              "          const dataTable =\n",
              "            await google.colab.kernel.invokeFunction('convertToInteractive',\n",
              "                                                     [key], {});\n",
              "          if (!dataTable) return;\n",
              "\n",
              "          const docLinkHtml = 'Like what you see? Visit the ' +\n",
              "            '<a target=\"_blank\" href=https://colab.research.google.com/notebooks/data_table.ipynb>data table notebook</a>'\n",
              "            + ' to learn more about interactive tables.';\n",
              "          element.innerHTML = '';\n",
              "          dataTable['output_type'] = 'display_data';\n",
              "          await google.colab.output.renderOutput(dataTable, element);\n",
              "          const docLink = document.createElement('div');\n",
              "          docLink.innerHTML = docLinkHtml;\n",
              "          element.appendChild(docLink);\n",
              "        }\n",
              "      </script>\n",
              "    </div>\n",
              "  </div>\n",
              "  "
            ]
          },
          "metadata": {},
          "execution_count": 54
        }
      ]
    },
    {
      "cell_type": "code",
      "source": [
        "df_c.info()"
      ],
      "metadata": {
        "colab": {
          "base_uri": "https://localhost:8080/"
        },
        "id": "r2Z3Uavvj2Sl",
        "outputId": "a03bb160-6a6c-4fb6-903f-b606baa01b1e"
      },
      "execution_count": 55,
      "outputs": [
        {
          "output_type": "stream",
          "name": "stdout",
          "text": [
            "<class 'pandas.core.frame.DataFrame'>\n",
            "RangeIndex: 1371980 entries, 0 to 1371979\n",
            "Data columns (total 7 columns):\n",
            " #   Column                  Non-Null Count    Dtype  \n",
            "---  ------                  --------------    -----  \n",
            " 0   customer_id             1371980 non-null  object \n",
            " 1   FN                      476930 non-null   float64\n",
            " 2   Active                  464404 non-null   float64\n",
            " 3   club_member_status      1365918 non-null  object \n",
            " 4   fashion_news_frequency  1355971 non-null  object \n",
            " 5   age                     1356119 non-null  float64\n",
            " 6   postal_code             1371980 non-null  object \n",
            "dtypes: float64(3), object(4)\n",
            "memory usage: 73.3+ MB\n"
          ]
        }
      ]
    },
    {
      "cell_type": "code",
      "source": [
        "#customer demography\n",
        "\n",
        "ages = pd.DataFrame(df_c['age'])\n",
        "\n",
        "bins = [18, 30, 40, 50, 60, 70, 80, 90]\n",
        "labels = ['18-29', '30-39', '40-49', '50-59', '60-69', '70-79','80+']\n",
        "ages['age_range'] = pd.cut(ages['age'], bins=bins, labels = labels,include_lowest = True)\n",
        "\n",
        "print(ages)"
      ],
      "metadata": {
        "colab": {
          "base_uri": "https://localhost:8080/"
        },
        "id": "5zxmGVd_Li8-",
        "outputId": "cb65530f-660f-4998-be5f-1ca851b865dc"
      },
      "execution_count": 56,
      "outputs": [
        {
          "output_type": "stream",
          "name": "stdout",
          "text": [
            "          age age_range\n",
            "0        49.0     40-49\n",
            "1        25.0     18-29\n",
            "2        24.0     18-29\n",
            "3        54.0     50-59\n",
            "4        52.0     50-59\n",
            "...       ...       ...\n",
            "1371975  24.0     18-29\n",
            "1371976  21.0     18-29\n",
            "1371977  21.0     18-29\n",
            "1371978  18.0     18-29\n",
            "1371979  65.0     60-69\n",
            "\n",
            "[1371980 rows x 2 columns]\n"
          ]
        }
      ]
    },
    {
      "cell_type": "code",
      "source": [
        "ages_plot = plt.subplots(figsize=(20, 7))\n",
        "ages_plot = sns.histplot(data = df_c, x='age', bins=100, color='#CC071E')\n",
        "ages_plot.set_xlabel(\"Distribution of the customers age\")\n",
        "ages_plot.set_ylabel(\"Number of Customers\")\n",
        "plt.show() #21 years old is the customer's common age \n"
      ],
      "metadata": {
        "colab": {
          "base_uri": "https://localhost:8080/",
          "height": 442
        },
        "id": "9TU5noBoHFrx",
        "outputId": "5dfe2d9a-e60e-4466-a417-707347f494a1"
      },
      "execution_count": 57,
      "outputs": [
        {
          "output_type": "display_data",
          "data": {
            "text/plain": [
              "<Figure size 1440x504 with 1 Axes>"
            ],
            "image/png": "[encoded data removed]"
          },
          "metadata": {
            "needs_background": "light"
          }
        }
      ]
    },
    {
      "cell_type": "code",
      "source": [
        "#fashion news\n",
        "df_c['fashion_news_frequency'].unique()"
      ],
      "metadata": {
        "colab": {
          "base_uri": "https://localhost:8080/"
        },
        "id": "D2gNVOMtUuFR",
        "outputId": "063f47e1-815c-48a1-9301-032a9e07017d"
      },
      "execution_count": 58,
      "outputs": [
        {
          "output_type": "execute_result",
          "data": {
            "text/plain": [
              "array(['NONE', 'Regularly', nan, 'Monthly', 'None'], dtype=object)"
            ]
          },
          "metadata": {},
          "execution_count": 58
        }
      ]
    },
    {
      "cell_type": "code",
      "source": [
        "df_c.loc[~df_c['fashion_news_frequency'].isin(['Regularly', 'Monthly']), 'fashion_news_frequency'] = 'None'\n",
        "df_c['fashion_news_frequency'].unique()"
      ],
      "metadata": {
        "colab": {
          "base_uri": "https://localhost:8080/"
        },
        "id": "8sv_XhvWUwkq",
        "outputId": "81419c56-00d8-43e5-878b-cdfa5b9146c1"
      },
      "execution_count": 59,
      "outputs": [
        {
          "output_type": "execute_result",
          "data": {
            "text/plain": [
              "array(['None', 'Regularly', 'Monthly'], dtype=object)"
            ]
          },
          "metadata": {},
          "execution_count": 59
        }
      ]
    },
    {
      "cell_type": "code",
      "source": [
        "news_sub = df_c.groupby(['fashion_news_frequency'])['customer_id'].count()\n",
        "print(news_sub)"
      ],
      "metadata": {
        "colab": {
          "base_uri": "https://localhost:8080/"
        },
        "id": "ouc0h3feLl6w",
        "outputId": "b332fd0e-4494-41f6-e93f-2978b187399f"
      },
      "execution_count": 60,
      "outputs": [
        {
          "output_type": "stream",
          "name": "stdout",
          "text": [
            "fashion_news_frequency\n",
            "Monthly         842\n",
            "None         893722\n",
            "Regularly    477416\n",
            "Name: customer_id, dtype: int64\n"
          ]
        }
      ]
    },
    {
      "cell_type": "code",
      "source": [
        "news_sub_df = pd.DataFrame(news_sub)\n",
        "news_sub_df = news_sub_df.reset_index()\n",
        "news_sub_df.rename(columns = {\"fashion_news_frequency\":\"Fashion News Frequency\",\"customer_id\":\"Number of Customers\"},inplace=True)\n",
        "print(news_sub_df)"
      ],
      "metadata": {
        "colab": {
          "base_uri": "https://localhost:8080/"
        },
        "id": "ABp5lTtUoo68",
        "outputId": "95e720b0-7c29-4d72-9db3-cd3e5e0493a7"
      },
      "execution_count": 61,
      "outputs": [
        {
          "output_type": "stream",
          "name": "stdout",
          "text": [
            "  Fashion News Frequency  Number of Customers\n",
            "0                Monthly                  842\n",
            "1                   None               893722\n",
            "2              Regularly               477416\n"
          ]
        }
      ]
    },
    {
      "cell_type": "code",
      "source": [
        "ax_news = plt.subplots(figsize=(10, 7))\n",
        "ax_news = sns.barplot(data = news_sub_df , x = \"Fashion News Frequency\", y = \"Number of Customers\" , color = '#CC071E', order = news_sub_df['Fashion News Frequency'])\n"
      ],
      "metadata": {
        "colab": {
          "base_uri": "https://localhost:8080/",
          "height": 442
        },
        "id": "FHqaJ8X1iEFZ",
        "outputId": "142a5430-20bf-4431-8124-75b1a72c0c13"
      },
      "execution_count": 62,
      "outputs": [
        {
          "output_type": "display_data",
          "data": {
            "text/plain": [
              "<Figure size 720x504 with 1 Axes>"
            ],
            "image/png": "[encoded data removed]"
          },
          "metadata": {
            "needs_background": "light"
          }
        }
      ]
    },
    {
      "cell_type": "code",
      "source": [
        "#club member \n",
        "club_status = df_c['club_member_status'].value_counts().sort_values(ascending=False)\n",
        "print(club_status)"
      ],
      "metadata": {
        "colab": {
          "base_uri": "https://localhost:8080/"
        },
        "id": "hfZCUR-EWfvC",
        "outputId": "0c0417c0-27ec-4e7b-c4fb-8145233af329"
      },
      "execution_count": 63,
      "outputs": [
        {
          "output_type": "stream",
          "name": "stdout",
          "text": [
            "ACTIVE        1272491\n",
            "PRE-CREATE      92960\n",
            "LEFT CLUB         467\n",
            "Name: club_member_status, dtype: int64\n"
          ]
        }
      ]
    },
    {
      "cell_type": "code",
      "source": [
        "club_status_df = pd.DataFrame(club_status)\n",
        "club_status_df = club_status_df.reset_index()\n",
        "club_status_df.rename(columns = {\"index\":\"Club Member Status\",\"club_member_status\":\"Number of Customers\"},inplace=True)\n",
        "print(club_status_df)\n"
      ],
      "metadata": {
        "colab": {
          "base_uri": "https://localhost:8080/"
        },
        "id": "RtCKJeN2S3mh",
        "outputId": "eb050808-3331-4de2-d00d-cfd9acedd4f0"
      },
      "execution_count": 64,
      "outputs": [
        {
          "output_type": "stream",
          "name": "stdout",
          "text": [
            "  Club Member Status  Number of Customers\n",
            "0             ACTIVE              1272491\n",
            "1         PRE-CREATE                92960\n",
            "2          LEFT CLUB                  467\n"
          ]
        }
      ]
    },
    {
      "cell_type": "code",
      "source": [
        "ax_club = plt.subplots(figsize=(10, 7))\n",
        "ax_club = sns.barplot(data = club_status_df , x = \"Club Member Status\", y = \"Number of Customers\" , color = '#CC071E')\n"
      ],
      "metadata": {
        "colab": {
          "base_uri": "https://localhost:8080/",
          "height": 453
        },
        "id": "lUTReTONYa9k",
        "outputId": "d0f4494c-b7c7-4480-950a-a2b8e7dcc9d8"
      },
      "execution_count": 65,
      "outputs": [
        {
          "output_type": "display_data",
          "data": {
            "text/plain": [
              "<Figure size 720x504 with 1 Axes>"
            ],
            "image/png": "[encoded data removed]"
          },
          "metadata": {
            "needs_background": "light"
          }
        }
      ]
    },
    {
      "cell_type": "code",
      "source": [
        "#Data exploration (transactions)\n",
        "df_t.head()"
      ],
      "metadata": {
        "id": "vRU-gM0hXcHK",
        "colab": {
          "base_uri": "https://localhost:8080/",
          "height": 206
        },
        "outputId": "c34c456f-f299-4fc9-98f3-d3b339d77bb6"
      },
      "execution_count": 66,
      "outputs": [
        {
          "output_type": "execute_result",
          "data": {
            "text/plain": [
              "        t_dat                                        customer_id  article_id  \\\n",
              "0  2018-09-20  000058a12d5b43e67d225668fa1f8d618c13dc232df0ca...   663713001   \n",
              "1  2018-09-20  000058a12d5b43e67d225668fa1f8d618c13dc232df0ca...   541518023   \n",
              "2  2018-09-20  00007d2de826758b65a93dd24ce629ed66842531df6699...   505221004   \n",
              "3  2018-09-20  00007d2de826758b65a93dd24ce629ed66842531df6699...   685687003   \n",
              "4  2018-09-20  00007d2de826758b65a93dd24ce629ed66842531df6699...   685687004   \n",
              "\n",
              "      price  sales_channel_id  \n",
              "0  0.050831                 2  \n",
              "1  0.030492                 2  \n",
              "2  0.015237                 2  \n",
              "3  0.016932                 2  \n",
              "4  0.016932                 2  "
            ],
            "text/html": [
              "\n",
              "  <div id=\"df-a862ef1b-b16b-4316-88bb-34f29ea7f6e6\">\n",
              "    <div class=\"colab-df-container\">\n",
              "      <div>\n",
              "<style scoped>\n",
              "    .dataframe tbody tr th:only-of-type {\n",
              "        vertical-align: middle;\n",
              "    }\n",
              "\n",
              "    .dataframe tbody tr th {\n",
              "        vertical-align: top;\n",
              "    }\n",
              "\n",
              "    .dataframe thead th {\n",
              "        text-align: right;\n",
              "    }\n",
              "</style>\n",
              "<table border=\"1\" class=\"dataframe\">\n",
              "  <thead>\n",
              "    <tr style=\"text-align: right;\">\n",
              "      <th></th>\n",
              "      <th>t_dat</th>\n",
              "      <th>customer_id</th>\n",
              "      <th>article_id</th>\n",
              "      <th>price</th>\n",
              "      <th>sales_channel_id</th>\n",
              "    </tr>\n",
              "  </thead>\n",
              "  <tbody>\n",
              "    <tr>\n",
              "      <th>0</th>\n",
              "      <td>2018-09-20</td>\n",
              "      <td>000058a12d5b43e67d225668fa1f8d618c13dc232df0ca...</td>\n",
              "      <td>663713001</td>\n",
              "      <td>0.050831</td>\n",
              "      <td>2</td>\n",
              "    </tr>\n",
              "    <tr>\n",
              "      <th>1</th>\n",
              "      <td>2018-09-20</td>\n",
              "      <td>000058a12d5b43e67d225668fa1f8d618c13dc232df0ca...</td>\n",
              "      <td>541518023</td>\n",
              "      <td>0.030492</td>\n",
              "      <td>2</td>\n",
              "    </tr>\n",
              "    <tr>\n",
              "      <th>2</th>\n",
              "      <td>2018-09-20</td>\n",
              "      <td>00007d2de826758b65a93dd24ce629ed66842531df6699...</td>\n",
              "      <td>505221004</td>\n",
              "      <td>0.015237</td>\n",
              "      <td>2</td>\n",
              "    </tr>\n",
              "    <tr>\n",
              "      <th>3</th>\n",
              "      <td>2018-09-20</td>\n",
              "      <td>00007d2de826758b65a93dd24ce629ed66842531df6699...</td>\n",
              "      <td>685687003</td>\n",
              "      <td>0.016932</td>\n",
              "      <td>2</td>\n",
              "    </tr>\n",
              "    <tr>\n",
              "      <th>4</th>\n",
              "      <td>2018-09-20</td>\n",
              "      <td>00007d2de826758b65a93dd24ce629ed66842531df6699...</td>\n",
              "      <td>685687004</td>\n",
              "      <td>0.016932</td>\n",
              "      <td>2</td>\n",
              "    </tr>\n",
              "  </tbody>\n",
              "</table>\n",
              "</div>\n",
              "      <button class=\"colab-df-convert\" onclick=\"convertToInteractive('df-a862ef1b-b16b-4316-88bb-34f29ea7f6e6')\"\n",
              "              title=\"Convert this dataframe to an interactive table.\"\n",
              "              style=\"display:none;\">\n",
              "        \n",
              "  <svg xmlns=\"http://www.w3.org/2000/svg\" height=\"24px\"viewBox=\"0 0 24 24\"\n",
              "       width=\"24px\">\n",
              "    <path d=\"M0 0h24v24H0V0z\" fill=\"none\"/>\n",
              "    <path d=\"M18.56 5.44l.94 2.06.94-2.06 2.06-.94-2.06-.94-.94-2.06-.94 2.06-2.06.94zm-11 1L8.5 8.5l.94-2.06 2.06-.94-2.06-.94L8.5 2.5l-.94 2.06-2.06.94zm10 10l.94 2.06.94-2.06 2.06-.94-2.06-.94-.94-2.06-.94 2.06-2.06.94z\"/><path d=\"M17.41 7.96l-1.37-1.37c-.4-.4-.92-.59-1.43-.59-.52 0-1.04.2-1.43.59L10.3 9.45l-7.72 7.72c-.78.78-.78 2.05 0 2.83L4 21.41c.39.39.9.59 1.41.59.51 0 1.02-.2 1.41-.59l7.78-7.78 2.81-2.81c.8-.78.8-2.07 0-2.86zM5.41 20L4 18.59l7.72-7.72 1.47 1.35L5.41 20z\"/>\n",
              "  </svg>\n",
              "      </button>\n",
              "      \n",
              "  <style>\n",
              "    .colab-df-container {\n",
              "      display:flex;\n",
              "      flex-wrap:wrap;\n",
              "      gap: 12px;\n",
              "    }\n",
              "\n",
              "    .colab-df-convert {\n",
              "      background-color: #E8F0FE;\n",
              "      border: none;\n",
              "      border-radius: 50%;\n",
              "      cursor: pointer;\n",
              "      display: none;\n",
              "      fill: #1967D2;\n",
              "      height: 32px;\n",
              "      padding: 0 0 0 0;\n",
              "      width: 32px;\n",
              "    }\n",
              "\n",
              "    .colab-df-convert:hover {\n",
              "      background-color: #E2EBFA;\n",
              "      box-shadow: 0px 1px 2px rgba(60, 64, 67, 0.3), 0px 1px 3px 1px rgba(60, 64, 67, 0.15);\n",
              "      fill: #174EA6;\n",
              "    }\n",
              "\n",
              "    [theme=dark] .colab-df-convert {\n",
              "      background-color: #3B4455;\n",
              "      fill: #D2E3FC;\n",
              "    }\n",
              "\n",
              "    [theme=dark] .colab-df-convert:hover {\n",
              "      background-color: #434B5C;\n",
              "      box-shadow: 0px 1px 3px 1px rgba(0, 0, 0, 0.15);\n",
              "      filter: drop-shadow(0px 1px 2px rgba(0, 0, 0, 0.3));\n",
              "      fill: #FFFFFF;\n",
              "    }\n",
              "  </style>\n",
              "\n",
              "      <script>\n",
              "        const buttonEl =\n",
              "          document.querySelector('#df-a862ef1b-b16b-4316-88bb-34f29ea7f6e6 button.colab-df-convert');\n",
              "        buttonEl.style.display =\n",
              "          google.colab.kernel.accessAllowed ? 'block' : 'none';\n",
              "\n",
              "        async function convertToInteractive(key) {\n",
              "          const element = document.querySelector('#df-a862ef1b-b16b-4316-88bb-34f29ea7f6e6');\n",
              "          const dataTable =\n",
              "            await google.colab.kernel.invokeFunction('convertToInteractive',\n",
              "                                                     [key], {});\n",
              "          if (!dataTable) return;\n",
              "\n",
              "          const docLinkHtml = 'Like what you see? Visit the ' +\n",
              "            '<a target=\"_blank\" href=https://colab.research.google.com/notebooks/data_table.ipynb>data table notebook</a>'\n",
              "            + ' to learn more about interactive tables.';\n",
              "          element.innerHTML = '';\n",
              "          dataTable['output_type'] = 'display_data';\n",
              "          await google.colab.output.renderOutput(dataTable, element);\n",
              "          const docLink = document.createElement('div');\n",
              "          docLink.innerHTML = docLinkHtml;\n",
              "          element.appendChild(docLink);\n",
              "        }\n",
              "      </script>\n",
              "    </div>\n",
              "  </div>\n",
              "  "
            ]
          },
          "metadata": {},
          "execution_count": 66
        }
      ]
    },
    {
      "cell_type": "code",
      "source": [
        "df_t.info()"
      ],
      "metadata": {
        "id": "gWkYfVppXcRB",
        "colab": {
          "base_uri": "https://localhost:8080/"
        },
        "outputId": "6ff08cc3-ffc3-4349-ee99-844fca694c70"
      },
      "execution_count": 67,
      "outputs": [
        {
          "output_type": "stream",
          "name": "stdout",
          "text": [
            "<class 'pandas.core.frame.DataFrame'>\n",
            "RangeIndex: 31788324 entries, 0 to 31788323\n",
            "Data columns (total 5 columns):\n",
            " #   Column            Dtype  \n",
            "---  ------            -----  \n",
            " 0   t_dat             object \n",
            " 1   customer_id       object \n",
            " 2   article_id        int64  \n",
            " 3   price             float64\n",
            " 4   sales_channel_id  int64  \n",
            "dtypes: float64(1), int64(2), object(2)\n",
            "memory usage: 1.2+ GB\n"
          ]
        }
      ]
    },
    {
      "cell_type": "code",
      "source": [
        "df_t.isnull().sum()"
      ],
      "metadata": {
        "id": "KbxFyGYEXzvU",
        "colab": {
          "base_uri": "https://localhost:8080/"
        },
        "outputId": "2f235ebd-a238-4e9f-dd02-4aebaff25d24"
      },
      "execution_count": 68,
      "outputs": [
        {
          "output_type": "execute_result",
          "data": {
            "text/plain": [
              "t_dat               0\n",
              "customer_id         0\n",
              "article_id          0\n",
              "price               0\n",
              "sales_channel_id    0\n",
              "dtype: int64"
            ]
          },
          "metadata": {},
          "execution_count": 68
        }
      ]
    },
    {
      "cell_type": "code",
      "source": [
        "df_t['t_dat'] = pd.to_datetime(df_t['t_dat'])"
      ],
      "metadata": {
        "id": "QBKijzZoktIN"
      },
      "execution_count": 69,
      "outputs": []
    },
    {
      "cell_type": "code",
      "source": [
        "t_per_day = df_t.groupby(['t_dat'],as_index=False)['price'].sum()\n",
        "print(t_per_day)"
      ],
      "metadata": {
        "colab": {
          "base_uri": "https://localhost:8080/"
        },
        "id": "6WkRmCz4E1qI",
        "outputId": "71e5b3c8-79ee-468b-92d5-9db21664f4e0"
      },
      "execution_count": 70,
      "outputs": [
        {
          "output_type": "stream",
          "name": "stdout",
          "text": [
            "         t_dat        price\n",
            "0   2018-09-20  1415.345847\n",
            "1   2018-09-21  1419.262305\n",
            "2   2018-09-22   530.437627\n",
            "3   2018-09-23  1593.783085\n",
            "4   2018-09-24  1407.609610\n",
            "..         ...          ...\n",
            "729 2020-09-18  1363.858119\n",
            "730 2020-09-19  1227.471305\n",
            "731 2020-09-20  1116.071068\n",
            "732 2020-09-21  1139.598051\n",
            "733 2020-09-22  1133.418424\n",
            "\n",
            "[734 rows x 2 columns]\n"
          ]
        }
      ]
    },
    {
      "cell_type": "code",
      "source": [
        "fix, ax = plt.subplots(figsize=(20,8))\n",
        "ax = sns.lineplot(data= t_per_day , x = 't_dat', y = 'price', color = '#CC071E' )\n",
        "ax.set_xlabel(\"Date\")\n",
        "ax.set_ylabel(\"Transactions\")"
      ],
      "metadata": {
        "colab": {
          "base_uri": "https://localhost:8080/",
          "height": 514
        },
        "id": "nHcxOblDPD5t",
        "outputId": "7ab741fb-81cc-4b34-c4fc-a382301e7c84"
      },
      "execution_count": 71,
      "outputs": [
        {
          "output_type": "execute_result",
          "data": {
            "text/plain": [
              "Text(0, 0.5, 'Transactions')"
            ]
          },
          "metadata": {},
          "execution_count": 71
        },
        {
          "output_type": "display_data",
          "data": {
            "text/plain": [
              "<Figure size 1440x576 with 1 Axes>"
            ],
            "image/png": "[encoded data removed]"
          },
          "metadata": {
            "needs_background": "light"
          }
        }
      ]
    },
    {
      "cell_type": "code",
      "source": [
        "#sales channels\n",
        "channel = df_t.groupby(['sales_channel_id'])['sales_channel_id'].count()\n",
        "print(channel)"
      ],
      "metadata": {
        "colab": {
          "base_uri": "https://localhost:8080/"
        },
        "id": "LMwXvtLcPPZJ",
        "outputId": "ee3bd9b2-9141-4cf1-e8b2-b520dd00e75b"
      },
      "execution_count": 72,
      "outputs": [
        {
          "output_type": "stream",
          "name": "stdout",
          "text": [
            "sales_channel_id\n",
            "1     9408462\n",
            "2    22379862\n",
            "Name: sales_channel_id, dtype: int64\n"
          ]
        }
      ]
    },
    {
      "cell_type": "code",
      "source": [
        "colors = sns.color_palette('Reds_r')\n",
        "labels = ['Channel 1','Channel 2']\n",
        "\n",
        "plt.pie(channel, labels = labels, colors = colors, autopct='%.0f%%')\n",
        "plt.show()"
      ],
      "metadata": {
        "id": "s2LymqFsl3ap",
        "colab": {
          "base_uri": "https://localhost:8080/",
          "height": 248
        },
        "outputId": "39991c2f-0112-429e-e9fc-c29606b4f118"
      },
      "execution_count": 73,
      "outputs": [
        {
          "output_type": "display_data",
          "data": {
            "text/plain": [
              "<Figure size 432x288 with 1 Axes>"
            ],
            "image/png": "[encoded data removed]"
          },
          "metadata": {}
        }
      ]
    },
    {
      "cell_type": "code",
      "source": [
        "corr_transactions = df_t.corr()\n",
        "corr_transactions.style.background_gradient (cmap = \"Reds_r\")"
      ],
      "metadata": {
        "id": "ikurolU1m-V-",
        "colab": {
          "base_uri": "https://localhost:8080/",
          "height": 143
        },
        "outputId": "2079e863-681b-40a3-a483-c83807f41455"
      },
      "execution_count": 74,
      "outputs": [
        {
          "output_type": "execute_result",
          "data": {
            "text/plain": [
              "<pandas.io.formats.style.Styler at 0x7f5fcf4fe910>"
            ],
            "text/html": [
              "<style type=\"text/css\">\n",
              "#T_a3d9a_row0_col0, #T_a3d9a_row1_col1, #T_a3d9a_row2_col2 {\n",
              "  background-color: #fff5f0;\n",
              "  color: #000000;\n",
              "}\n",
              "#T_a3d9a_row0_col1, #T_a3d9a_row0_col2, #T_a3d9a_row2_col0 {\n",
              "  background-color: #67000d;\n",
              "  color: #f1f1f1;\n",
              "}\n",
              "#T_a3d9a_row1_col0 {\n",
              "  background-color: #840711;\n",
              "  color: #f1f1f1;\n",
              "}\n",
              "#T_a3d9a_row1_col2 {\n",
              "  background-color: #920a13;\n",
              "  color: #f1f1f1;\n",
              "}\n",
              "#T_a3d9a_row2_col1 {\n",
              "  background-color: #75030f;\n",
              "  color: #f1f1f1;\n",
              "}\n",
              "</style>\n",
              "<table id=\"T_a3d9a_\" class=\"dataframe\">\n",
              "  <thead>\n",
              "    <tr>\n",
              "      <th class=\"blank level0\" >&nbsp;</th>\n",
              "      <th class=\"col_heading level0 col0\" >article_id</th>\n",
              "      <th class=\"col_heading level0 col1\" >price</th>\n",
              "      <th class=\"col_heading level0 col2\" >sales_channel_id</th>\n",
              "    </tr>\n",
              "  </thead>\n",
              "  <tbody>\n",
              "    <tr>\n",
              "      <th id=\"T_a3d9a_level0_row0\" class=\"row_heading level0 row0\" >article_id</th>\n",
              "      <td id=\"T_a3d9a_row0_col0\" class=\"data row0 col0\" >1.000000</td>\n",
              "      <td id=\"T_a3d9a_row0_col1\" class=\"data row0 col1\" >0.141169</td>\n",
              "      <td id=\"T_a3d9a_row0_col2\" class=\"data row0 col2\" >0.085231</td>\n",
              "    </tr>\n",
              "    <tr>\n",
              "      <th id=\"T_a3d9a_level0_row1\" class=\"row_heading level0 row1\" >price</th>\n",
              "      <td id=\"T_a3d9a_row1_col0\" class=\"data row1 col0\" >0.141169</td>\n",
              "      <td id=\"T_a3d9a_row1_col1\" class=\"data row1 col1\" >1.000000</td>\n",
              "      <td id=\"T_a3d9a_row1_col2\" class=\"data row1 col2\" >0.165802</td>\n",
              "    </tr>\n",
              "    <tr>\n",
              "      <th id=\"T_a3d9a_level0_row2\" class=\"row_heading level0 row2\" >sales_channel_id</th>\n",
              "      <td id=\"T_a3d9a_row2_col0\" class=\"data row2 col0\" >0.085231</td>\n",
              "      <td id=\"T_a3d9a_row2_col1\" class=\"data row2 col1\" >0.165802</td>\n",
              "      <td id=\"T_a3d9a_row2_col2\" class=\"data row2 col2\" >1.000000</td>\n",
              "    </tr>\n",
              "  </tbody>\n",
              "</table>\n"
            ]
          },
          "metadata": {},
          "execution_count": 74
        }
      ]
    },
    {
      "cell_type": "markdown",
      "source": [
        ""
      ],
      "metadata": {
        "id": "E606wnLvw4g0"
      }
    }
  ]
}